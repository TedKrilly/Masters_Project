{
 "cells": [
  {
   "cell_type": "code",
   "execution_count": 1,
   "metadata": {},
   "outputs": [
    {
     "name": "stderr",
     "output_type": "stream",
     "text": [
      "C:\\Users\\paulo\\AppData\\Local\\Temp\\ipykernel_11156\\2162656668.py:1: DeprecationWarning: \n",
      "Pyarrow will become a required dependency of pandas in the next major release of pandas (pandas 3.0),\n",
      "(to allow more performant data types, such as the Arrow string type, and better interoperability with other libraries)\n",
      "but was not found to be installed on your system.\n",
      "If this would cause problems for you,\n",
      "please provide us feedback at https://github.com/pandas-dev/pandas/issues/54466\n",
      "        \n",
      "  import pandas as pd\n"
     ]
    }
   ],
   "source": [
    "import pandas as pd\n",
    "import numpy as np"
   ]
  },
  {
   "cell_type": "code",
   "execution_count": 10,
   "metadata": {},
   "outputs": [],
   "source": [
    "# Read the Excel file\n",
    "excel_file = \"C:\\\\Users\\\\paulo\\\\Desktop\\Masters_Project\\\\Data Processing\\\\Erdos_data_with clamp.xlsx\""
   ]
  },
  {
   "cell_type": "code",
   "execution_count": 11,
   "metadata": {},
   "outputs": [],
   "source": [
    "output_file = 'C:\\\\Users\\\\paulo\\\\Desktop\\Masters_Project\\\\mmt_glucose_and_insulin_data.csv'"
   ]
  },
  {
   "cell_type": "code",
   "execution_count": 12,
   "metadata": {},
   "outputs": [],
   "source": [
    "def process_mmt_sheet(file_name, sheet_name, metab):\n",
    "    df = pd.read_excel(file_name, sheet_name=sheet_name)\n",
    "    df_melted = df.melt(id_vars=['ID'], var_name='time', value_name='VAL')\n",
    "    df_melted = df_melted.sort_values(['ID', 'time'])\n",
    "    df_melted['ID'] = df_melted['ID'].str.replace('PS', 'Ex')\n",
    "    df_melted['Condition'] = 'na'\n",
    "    df_melted['test'] = 'HFMM'\n",
    "    df_melted['metab'] = metab\n",
    "    return df_melted[['ID', 'Condition', 'test', 'metab', 'VAL', 'time']]"
   ]
  },
  {
   "cell_type": "code",
   "execution_count": 13,
   "metadata": {},
   "outputs": [
    {
     "name": "stdout",
     "output_type": "stream",
     "text": [
      "            ID Condition  test metab        VAL time\n",
      "0     Ex010001        na  HFMM  gluc   4.730000    0\n",
      "1     Ex010001        na  HFMM  gluc   4.790000   30\n",
      "2     Ex010001        na  HFMM  gluc   4.320000   60\n",
      "3     Ex010001        na  HFMM  gluc   3.950000  120\n",
      "4     Ex010001        na  HFMM  gluc   4.770000  180\n",
      "5     Ex010001        na  HFMM  gluc   4.520000  240\n",
      "1458  Ex010001        na  HFMM   ins   5.645788    0\n",
      "1459  Ex010001        na  HFMM   ins  26.308135   30\n",
      "1460  Ex010001        na  HFMM   ins  52.285097   60\n",
      "1461  Ex010001        na  HFMM   ins   8.041757  120\n",
      "1462  Ex010001        na  HFMM   ins  13.176386  180\n",
      "1463  Ex010001        na  HFMM   ins   4.829374  240\n",
      "6     Ex010002        na  HFMM  gluc   6.210000    0\n",
      "7     Ex010002        na  HFMM  gluc   7.060000   30\n",
      "8     Ex010002        na  HFMM  gluc   6.450000   60\n",
      "9     Ex010002        na  HFMM  gluc   6.810000  120\n",
      "10    Ex010002        na  HFMM  gluc   5.640000  180\n",
      "11    Ex010002        na  HFMM  gluc   5.560000  240\n",
      "1464  Ex010002        na  HFMM   ins   8.747300    0\n",
      "1465  Ex010002        na  HFMM   ins  26.449244   30\n",
      "\n",
      "Data shape: (2812, 6)\n",
      "\n",
      "Unique IDs:\n",
      "235\n",
      "\n",
      "ID counts:\n",
      "ID\n",
      "Ex010001    12\n",
      "Ex020045    12\n",
      "Ex020033    12\n",
      "Ex020034    12\n",
      "Ex020035    12\n",
      "            ..\n",
      "Ex010088    12\n",
      "Ex010090    12\n",
      "Ex010091    12\n",
      "Ex020119    12\n",
      "Ex010041     4\n",
      "Name: count, Length: 235, dtype: int64\n",
      "\n",
      "Time points per ID and metabolite:\n",
      "ID        metab\n",
      "Ex010001  gluc     6\n",
      "          ins      6\n",
      "Ex010002  gluc     6\n",
      "          ins      6\n",
      "Ex010003  gluc     6\n",
      "                  ..\n",
      "Ex020117  ins      6\n",
      "Ex020118  gluc     6\n",
      "          ins      6\n",
      "Ex020119  gluc     6\n",
      "          ins      6\n",
      "Name: time, Length: 469, dtype: int64\n",
      "\n",
      "Value ranges by metabolite:\n",
      "        count       mean        std       min       25%        50%        75%  \\\n",
      "metab                                                                           \n",
      "gluc   1404.0   5.563077   1.019504  3.060000  4.900000   5.320000   6.000000   \n",
      "ins    1408.0  24.187866  23.401207  2.511159  8.032037  15.320374  32.962563   \n",
      "\n",
      "              max  \n",
      "metab              \n",
      "gluc    12.390000  \n",
      "ins    196.843772  \n",
      "\n",
      "Unique time points:\n",
      "[0, 30, 60, 120, 180, 240]\n"
     ]
    }
   ],
   "source": [
    "# Process MMT glucose data\n",
    "df_mmt_glucose = process_mmt_sheet(excel_file, 'MMT_week1_plasma_glucose', 'gluc')\n",
    "\n",
    "# Process MMT insulin data\n",
    "df_mmt_insulin = process_mmt_sheet(excel_file, 'MMT_week1_plasma_insulin', 'ins')\n",
    "\n",
    "# Combine glucose and insulin data\n",
    "df_mmt_combined = pd.concat([df_mmt_glucose, df_mmt_insulin], ignore_index=True)\n",
    "\n",
    "# Sort the combined dataframe\n",
    "df_mmt_combined = df_mmt_combined.sort_values(['ID', 'metab', 'time'])\n",
    "\n",
    "# Remove rows with NaN values\n",
    "df_mmt_combined = df_mmt_combined.dropna()\n",
    "\n",
    "# Save to CSV\n",
    "df_mmt_combined.to_csv(output_file, index=False)\n",
    "\n",
    "print(df_mmt_combined.head(20))\n",
    "print(\"\\nData shape:\", df_mmt_combined.shape)\n",
    "\n",
    "# Additional data validation\n",
    "print(\"\\nUnique IDs:\")\n",
    "print(df_mmt_combined['ID'].nunique())\n",
    "print(\"\\nID counts:\")\n",
    "print(df_mmt_combined['ID'].value_counts())\n",
    "print(\"\\nTime points per ID and metabolite:\")\n",
    "print(df_mmt_combined.groupby(['ID', 'metab'])['time'].nunique())\n",
    "print(\"\\nValue ranges by metabolite:\")\n",
    "print(df_mmt_combined.groupby('metab')['VAL'].describe())\n",
    "print(\"\\nUnique time points:\")\n",
    "print(sorted(df_mmt_combined['time'].unique()))"
   ]
  }
 ],
 "metadata": {
  "kernelspec": {
   "display_name": "Python 3",
   "language": "python",
   "name": "python3"
  },
  "language_info": {
   "codemirror_mode": {
    "name": "ipython",
    "version": 3
   },
   "file_extension": ".py",
   "mimetype": "text/x-python",
   "name": "python",
   "nbconvert_exporter": "python",
   "pygments_lexer": "ipython3",
   "version": "3.11.9"
  }
 },
 "nbformat": 4,
 "nbformat_minor": 2
}
