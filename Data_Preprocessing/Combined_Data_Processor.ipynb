{
 "cells": [
  {
   "cell_type": "code",
   "execution_count": 1,
   "metadata": {},
   "outputs": [
    {
     "name": "stderr",
     "output_type": "stream",
     "text": [
      "C:\\Users\\paulo\\AppData\\Local\\Temp\\ipykernel_12132\\2162656668.py:1: DeprecationWarning: \n",
      "Pyarrow will become a required dependency of pandas in the next major release of pandas (pandas 3.0),\n",
      "(to allow more performant data types, such as the Arrow string type, and better interoperability with other libraries)\n",
      "but was not found to be installed on your system.\n",
      "If this would cause problems for you,\n",
      "please provide us feedback at https://github.com/pandas-dev/pandas/issues/54466\n",
      "        \n",
      "  import pandas as pd\n"
     ]
    }
   ],
   "source": [
    "import pandas as pd\n",
    "import numpy as np"
   ]
  },
  {
   "cell_type": "code",
   "execution_count": 2,
   "metadata": {},
   "outputs": [],
   "source": [
    "# Read the Excel file\n",
    "excel_file = \"C:\\\\Users\\\\paulo\\\\Downloads\\\\Erdos_data_with clamp.xlsx\""
   ]
  },
  {
   "cell_type": "code",
   "execution_count": 3,
   "metadata": {},
   "outputs": [],
   "source": [
    "output_file = 'C:\\\\Users\\\\paulo\\\\Downloads\\\\transformed_data.csv'"
   ]
  },
  {
   "cell_type": "code",
   "execution_count": 4,
   "metadata": {},
   "outputs": [],
   "source": [
    "def process_ogtt_sheet(file_name, sheet_name, metab):\n",
    "    df = pd.read_excel(file_name, sheet_name=sheet_name)\n",
    "    df_melted = df.melt(id_vars=['ID'], var_name='time', value_name='VAL')\n",
    "    df_melted = df_melted.sort_values(['ID', 'time'])\n",
    "    df_melted['ID'] = df_melted['ID'].str.replace('PS', 'Ex')\n",
    "    df_melted['Condition'] = 'na'\n",
    "    df_melted['test'] = 'OGTT'\n",
    "    df_melted['metab'] = metab\n",
    "    return df_melted[['ID', 'Condition', 'test', 'metab', 'VAL', 'time']]"
   ]
  },
  {
   "cell_type": "code",
   "execution_count": 5,
   "metadata": {},
   "outputs": [],
   "source": [
    "def process_cgm_sheet(file_name, sheet_name):\n",
    "    df = pd.read_excel(file_name, sheet_name=sheet_name)\n",
    "    df_melted = df.melt(id_vars=['ID'], var_name='time', value_name='VAL')\n",
    "    df_melted = df_melted.sort_values(['ID', 'time'])\n",
    "    df_melted['ID'] = df_melted['ID'].str.replace('PS', 'Ex')\n",
    "    df_melted['Condition'] = 'na'\n",
    "    df_melted['test'] = 'CGM'\n",
    "    df_melted['metab'] = 'gluc'\n",
    "    return df_melted[['ID', 'Condition', 'test', 'metab', 'VAL', 'time']]"
   ]
  },
  {
   "cell_type": "code",
   "execution_count": 6,
   "metadata": {},
   "outputs": [
    {
     "name": "stdout",
     "output_type": "stream",
     "text": [
      "            ID Condition test metab  VAL time\n",
      "3402  Ex010001        na  CGM  gluc  4.6    0\n",
      "3403  Ex010001        na  CGM  gluc  4.8    5\n",
      "3404  Ex010001        na  CGM  gluc  5.2   10\n",
      "3405  Ex010001        na  CGM  gluc  5.7   15\n",
      "3406  Ex010001        na  CGM  gluc  6.3   20\n",
      "3407  Ex010001        na  CGM  gluc  6.9   25\n",
      "3408  Ex010001        na  CGM  gluc  7.4   30\n",
      "3409  Ex010001        na  CGM  gluc  7.8   35\n",
      "3410  Ex010001        na  CGM  gluc  8.0   40\n",
      "3411  Ex010001        na  CGM  gluc  8.0   45\n",
      "3412  Ex010001        na  CGM  gluc  8.0   50\n",
      "3413  Ex010001        na  CGM  gluc  7.9   55\n",
      "3414  Ex010001        na  CGM  gluc  7.8   60\n",
      "3415  Ex010001        na  CGM  gluc  7.7   65\n",
      "3416  Ex010001        na  CGM  gluc  7.5   70\n",
      "3417  Ex010001        na  CGM  gluc  7.4   75\n",
      "3418  Ex010001        na  CGM  gluc  7.3   80\n",
      "3419  Ex010001        na  CGM  gluc  7.2   85\n",
      "3420  Ex010001        na  CGM  gluc  7.0   90\n",
      "3421  Ex010001        na  CGM  gluc  6.8   95\n",
      "\n",
      "Data shape: (9258, 6)\n",
      "\n",
      "Unique IDs:\n",
      "240\n",
      "\n",
      "ID counts:\n",
      "ID\n",
      "Ex010001    40\n",
      "Ex020044    40\n",
      "Ex020032    40\n",
      "Ex020033    40\n",
      "Ex020034    40\n",
      "            ..\n",
      "Ex010044    14\n",
      "Ex020072    14\n",
      "Ex020015    14\n",
      "Ex010107    14\n",
      "Ex020119    14\n",
      "Name: count, Length: 240, dtype: int64\n",
      "\n",
      "Time points per ID, test, and metabolite:\n",
      "ID        test  metab\n",
      "Ex010001  CGM   gluc     26\n",
      "          OGTT  gluc      7\n",
      "                ins       7\n",
      "Ex010002  CGM   gluc     26\n",
      "          OGTT  gluc      7\n",
      "                         ..\n",
      "Ex020118  CGM   gluc     26\n",
      "          OGTT  gluc      7\n",
      "                ins       7\n",
      "Ex020119  OGTT  gluc      7\n",
      "                ins       7\n",
      "Name: time, Length: 707, dtype: int64\n",
      "\n",
      "Value ranges:\n",
      "             count       mean        std       min        25%        50%  \\\n",
      "test metab                                                                 \n",
      "CGM  gluc   5901.0   8.412981   2.373843  3.600000   6.700000   7.900000   \n",
      "OGTT gluc   1678.0   7.546466   2.334024  2.550000   5.790000   7.140000   \n",
      "     ins    1679.0  59.077786  49.099397  1.906407  26.488841  49.115911   \n",
      "\n",
      "                  75%         max  \n",
      "test metab                         \n",
      "CGM  gluc    9.500000   19.300000  \n",
      "OGTT gluc    8.747500   20.230000  \n",
      "     ins    78.259899  405.010799  \n"
     ]
    }
   ],
   "source": [
    "# Process OGTT glucose data\n",
    "df_ogtt_glucose = process_ogtt_sheet(excel_file, 'OGTT_week1_plasma_glucose', 'gluc')\n",
    "\n",
    "# Process OGTT insulin data\n",
    "df_ogtt_insulin = process_ogtt_sheet(excel_file, 'OGTT_week1_plasma_insulin', 'ins')\n",
    "\n",
    "# Process CGM glucose data\n",
    "df_cgm_glucose = process_cgm_sheet(excel_file, 'OGTT_week1_CGM_glucose')\n",
    "\n",
    "# Combine all data\n",
    "df_final = pd.concat([df_ogtt_glucose, df_ogtt_insulin, df_cgm_glucose], ignore_index=True)\n",
    "\n",
    "# Sort the final dataframe\n",
    "df_final = df_final.sort_values(['ID', 'test', 'metab', 'time'])\n",
    "\n",
    "# Remove rows with NaN values\n",
    "df_final = df_final.dropna()\n",
    "\n",
    "# Save to CSV\n",
    "df_final.to_csv(output_file, index=False)\n",
    "\n",
    "print(df_final.head(20))\n",
    "print(\"\\nData shape:\", df_final.shape)\n",
    "\n",
    "# Additional data validation\n",
    "print(\"\\nUnique IDs:\")\n",
    "print(df_final['ID'].nunique())\n",
    "print(\"\\nID counts:\")\n",
    "print(df_final['ID'].value_counts())\n",
    "print(\"\\nTime points per ID, test, and metabolite:\")\n",
    "print(df_final.groupby(['ID', 'test', 'metab'])['time'].nunique())\n",
    "print(\"\\nValue ranges:\")\n",
    "print(df_final.groupby(['test', 'metab'])['VAL'].describe())\n"
   ]
  }
 ],
 "metadata": {
  "kernelspec": {
   "display_name": "Python 3",
   "language": "python",
   "name": "python3"
  },
  "language_info": {
   "codemirror_mode": {
    "name": "ipython",
    "version": 3
   },
   "file_extension": ".py",
   "mimetype": "text/x-python",
   "name": "python",
   "nbconvert_exporter": "python",
   "pygments_lexer": "ipython3",
   "version": "3.11.9"
  }
 },
 "nbformat": 4,
 "nbformat_minor": 2
}
